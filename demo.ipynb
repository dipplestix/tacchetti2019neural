{
 "cells": [
  {
   "cell_type": "code",
   "execution_count": 1,
   "id": "99e6010a-e1ca-4fc4-ae7c-06b863fcae5a",
   "metadata": {},
   "outputs": [],
   "source": [
    "import torch\n",
    "from torch.autograd import Variable\n",
    "from torch.nn import Linear, ReLU, CrossEntropyLoss, Sequential, Conv2d, MaxPool2d, Module, Softmax, BatchNorm2d, Dropout, AvgPool2d\n",
    "from torch.optim import Adam, SGD\n",
    "from network import AuctionNet, AucLoss, process\n",
    "from tqdm import tqdm"
   ]
  },
  {
   "cell_type": "code",
   "execution_count": 2,
   "id": "7ad34439-4f40-40e8-82f4-c6c905396590",
   "metadata": {},
   "outputs": [
    {
     "name": "stdout",
     "output_type": "stream",
     "text": [
      "tensor([[[[12.,  8.,  4.],\n",
      "          [ 9.,  8.,  7.],\n",
      "          [11., 10.,  7.]],\n",
      "\n",
      "         [[ 1.,  0.,  0.],\n",
      "          [ 0.,  0.,  0.],\n",
      "          [ 0.,  0.,  0.]],\n",
      "\n",
      "         [[12.,  0.,  0.],\n",
      "          [ 0.,  0.,  0.],\n",
      "          [ 0.,  0.,  0.]],\n",
      "\n",
      "         [[ 1.,  0.,  0.],\n",
      "          [ 0.,  0.,  0.],\n",
      "          [ 1.,  0.,  0.]],\n",
      "\n",
      "         [[12.,  0.,  0.],\n",
      "          [ 0.,  0.,  0.],\n",
      "          [11.,  0.,  0.]],\n",
      "\n",
      "         [[ 1.,  0.,  0.],\n",
      "          [ 0.,  0.,  0.],\n",
      "          [ 1.,  1.,  0.]],\n",
      "\n",
      "         [[12.,  0.,  0.],\n",
      "          [ 0.,  0.,  0.],\n",
      "          [11., 10.,  0.]]],\n",
      "\n",
      "\n",
      "        [[[ 8.,  7.,  6.],\n",
      "          [ 9.,  8.,  7.],\n",
      "          [11., 10.,  7.]],\n",
      "\n",
      "         [[ 0.,  0.,  0.],\n",
      "          [ 0.,  0.,  0.],\n",
      "          [ 1.,  0.,  0.]],\n",
      "\n",
      "         [[ 0.,  0.,  0.],\n",
      "          [ 0.,  0.,  0.],\n",
      "          [11.,  0.,  0.]],\n",
      "\n",
      "         [[ 0.,  0.,  0.],\n",
      "          [ 0.,  0.,  0.],\n",
      "          [ 1.,  1.,  0.]],\n",
      "\n",
      "         [[ 0.,  0.,  0.],\n",
      "          [ 0.,  0.,  0.],\n",
      "          [11., 10.,  0.]],\n",
      "\n",
      "         [[ 0.,  0.,  0.],\n",
      "          [ 1.,  0.,  0.],\n",
      "          [ 1.,  1.,  0.]],\n",
      "\n",
      "         [[ 0.,  0.,  0.],\n",
      "          [ 9.,  0.,  0.],\n",
      "          [11., 10.,  0.]]],\n",
      "\n",
      "\n",
      "        [[[ 8.,  7.,  6.],\n",
      "          [12.,  8.,  4.],\n",
      "          [11., 10.,  7.]],\n",
      "\n",
      "         [[ 0.,  0.,  0.],\n",
      "          [ 1.,  0.,  0.],\n",
      "          [ 0.,  0.,  0.]],\n",
      "\n",
      "         [[ 0.,  0.,  0.],\n",
      "          [12.,  0.,  0.],\n",
      "          [ 0.,  0.,  0.]],\n",
      "\n",
      "         [[ 0.,  0.,  0.],\n",
      "          [ 1.,  0.,  0.],\n",
      "          [ 1.,  0.,  0.]],\n",
      "\n",
      "         [[ 0.,  0.,  0.],\n",
      "          [12.,  0.,  0.],\n",
      "          [11.,  0.,  0.]],\n",
      "\n",
      "         [[ 0.,  0.,  0.],\n",
      "          [ 1.,  0.,  0.],\n",
      "          [ 1.,  1.,  0.]],\n",
      "\n",
      "         [[ 0.,  0.,  0.],\n",
      "          [12.,  0.,  0.],\n",
      "          [11., 10.,  0.]]],\n",
      "\n",
      "\n",
      "        [[[ 8.,  7.,  6.],\n",
      "          [12.,  8.,  4.],\n",
      "          [ 9.,  8.,  7.]],\n",
      "\n",
      "         [[ 0.,  0.,  0.],\n",
      "          [ 1.,  0.,  0.],\n",
      "          [ 0.,  0.,  0.]],\n",
      "\n",
      "         [[ 0.,  0.,  0.],\n",
      "          [12.,  0.,  0.],\n",
      "          [ 0.,  0.,  0.]],\n",
      "\n",
      "         [[ 0.,  0.,  0.],\n",
      "          [ 1.,  0.,  0.],\n",
      "          [ 1.,  0.,  0.]],\n",
      "\n",
      "         [[ 0.,  0.,  0.],\n",
      "          [12.,  0.,  0.],\n",
      "          [ 9.,  0.,  0.]],\n",
      "\n",
      "         [[ 1.,  0.,  0.],\n",
      "          [ 1.,  0.,  0.],\n",
      "          [ 1.,  0.,  0.]],\n",
      "\n",
      "         [[ 8.,  0.,  0.],\n",
      "          [12.,  0.,  0.],\n",
      "          [ 9.,  0.,  0.]]]])\n"
     ]
    }
   ],
   "source": [
    "# Sample. 4 players, 3 items\n",
    "p1 = [8, 7, 6]\n",
    "p2 = [12, 8, 4]\n",
    "p3 = [9, 8, 7]\n",
    "p4 = [11, 10, 7]\n",
    "\n",
    "other_results, h_vcg, results, tensors = process(torch.tensor([p1, p2, p3, p4]))\n",
    "print(tensors)"
   ]
  },
  {
   "cell_type": "code",
   "execution_count": 3,
   "id": "451f05ec-f1e6-4ed3-81a9-2b159989d3eb",
   "metadata": {},
   "outputs": [],
   "source": [
    "vs = torch.normal(10, 1, [4, 3])\n",
    "vs, indicies = torch.sort(vs, descending=True)\n",
    "other_results, h_vcg, results, tensors = process(vs)"
   ]
  },
  {
   "cell_type": "code",
   "execution_count": 5,
   "id": "0838f9f2-d4b2-4655-8ee0-6977c278783f",
   "metadata": {},
   "outputs": [
    {
     "name": "stdout",
     "output_type": "stream",
     "text": [
      "tensor([[0.1494],\n",
      "        [0.0924],\n",
      "        [0.0592],\n",
      "        [0.1312]], grad_fn=<AddmmBackward0>)\n"
     ]
    }
   ],
   "source": [
    "model = AuctionNet(4, 3)\n",
    "optimizer = Adam(model.parameters(), lr=1e-3)\n",
    "loss_func = AucLoss()\n",
    "print(model(tensors))"
   ]
  },
  {
   "cell_type": "code",
   "execution_count": 6,
   "id": "b790af32-8274-4ceb-a79b-590500177414",
   "metadata": {},
   "outputs": [],
   "source": [
    "# This is obviously going to overfit, but just a show of it learning the function for one particular auction\n",
    "for _ in range(100):\n",
    "    optimizer.zero_grad()\n",
    "    h = model(tensors)\n",
    "    h = h.reshape(-1)\n",
    "    t = h - other_results\n",
    "    loss = loss_func(t, results)\n",
    "    loss.backward()\n",
    "    optimizer.step()"
   ]
  },
  {
   "cell_type": "code",
   "execution_count": 7,
   "id": "e1a934ac-7d4a-4ce2-bef4-6ab48b59916f",
   "metadata": {},
   "outputs": [],
   "source": [
    "def loss_trial( t, results, lam_b=100, lam_r=100):\n",
    "    sum_t = torch.sum(t)\n",
    "    print(f'sum_t: {sum_t}')\n",
    "    budget_balanced = torch.square(torch.minimum(torch.sum(t), torch.zeros([1])))\n",
    "    print(f'budget_balanced: {budget_balanced}')\n",
    "    rationality = torch.sum(torch.square(torch.minimum(results - t, torch.zeros(t.shape))))\n",
    "    print(f'rationality: {rationality}')\n",
    "    loss = sum_t + lam_b*budget_balanced + lam_r*rationality\n",
    "    return loss\n"
   ]
  },
  {
   "cell_type": "code",
   "execution_count": 8,
   "id": "14412560-a8a0-471b-84ff-c3f9b0bf1cfe",
   "metadata": {},
   "outputs": [
    {
     "name": "stdout",
     "output_type": "stream",
     "text": [
      "sum_t: 7.8319902420043945\n",
      "budget_balanced: tensor([0.], grad_fn=<PowBackward0>)\n",
      "rationality: 0.0\n"
     ]
    },
    {
     "data": {
      "text/plain": [
       "tensor([7.8320], grad_fn=<AddBackward0>)"
      ]
     },
     "execution_count": 8,
     "metadata": {},
     "output_type": "execute_result"
    }
   ],
   "source": [
    "loss_trial(t, results)"
   ]
  },
  {
   "cell_type": "code",
   "execution_count": 9,
   "id": "14dcc2ec-19f8-4a6a-84ac-86556145193d",
   "metadata": {},
   "outputs": [
    {
     "data": {
      "text/plain": [
       "tensor([[28.2851],\n",
       "        [27.7180],\n",
       "        [27.2737],\n",
       "        [28.2134]], grad_fn=<AddmmBackward0>)"
      ]
     },
     "execution_count": 9,
     "metadata": {},
     "output_type": "execute_result"
    }
   ],
   "source": [
    "model(tensors)"
   ]
  },
  {
   "cell_type": "code",
   "execution_count": 10,
   "id": "78808729-a920-47f5-a4ba-7fb83ff8b3ae",
   "metadata": {},
   "outputs": [
    {
     "data": {
      "text/plain": [
       "tensor([34.5496, 32.7032, 32.8398, 34.5496])"
      ]
     },
     "execution_count": 10,
     "metadata": {},
     "output_type": "execute_result"
    }
   ],
   "source": [
    "h_vcg"
   ]
  },
  {
   "cell_type": "code",
   "execution_count": 13,
   "id": "01dd1991-c44e-4113-82f5-333a649f0604",
   "metadata": {},
   "outputs": [
    {
     "name": "stderr",
     "output_type": "stream",
     "text": [
      "100%|████████████████████████████████████████████████████████████████████████████████████████████████████████████████████████████████████████████████████████████████████████████████████████████████████████████████████████| 20000/20000 [02:50<00:00, 117.11it/s]\n",
      "100%|██████████████████████████████████████████████████████████████████████████████████████████████████████████████████████████████████████████████████████████████████████████████████████████████████████████████████████████| 2000/2000 [00:17<00:00, 116.69it/s]\n"
     ]
    }
   ],
   "source": [
    "num_train_auctions = 20000\n",
    "num_test_auctions = 2000\n",
    "n_players = 10\n",
    "n_items = 15\n",
    "\n",
    "all_other_results, all_h_vcg, all_results, all_tensors = [], [], [], []\n",
    "\n",
    "for _ in tqdm(range(num_train_auctions)):\n",
    "    mean = torch.normal(10, 1, [1])\n",
    "    sd = max(torch.normal(2, .5, [1]), torch.tensor(0))\n",
    "    a = torch.empty((n_players, n_items)).normal_(mean.item(), sd.item())\n",
    "    other_results, h_vcg, results, tensors = process(a)\n",
    "    all_other_results.append(other_results)\n",
    "    all_h_vcg.append(h_vcg)\n",
    "    all_results.append(results)\n",
    "    all_tensors.append(tensors)\n",
    "    \n",
    "    \n",
    "test_other_results, test_h_vcg, test_results, test_tensors = [], [], [], []\n",
    "    \n",
    "for _ in tqdm(range(num_test_auctions)):\n",
    "    mean = torch.normal(10, 1, [1])\n",
    "    sd = max(torch.normal(2, .5, [1]), 0)\n",
    "    a = torch.empty((n_players, n_items)).normal_(mean.item(), sd.item())\n",
    "    other_results, h_vcg, results, tensors = process(a)\n",
    "    test_other_results.append(other_results)\n",
    "    test_h_vcg.append(h_vcg)\n",
    "    test_results.append(results)\n",
    "    test_tensors.append(tensors)"
   ]
  },
  {
   "cell_type": "code",
   "execution_count": null,
   "id": "8975e336-4eb0-4a69-98b8-3ad168a485e8",
   "metadata": {},
   "outputs": [
    {
     "name": "stdout",
     "output_type": "stream",
     "text": [
      "epoch 0: -0.2641617953777313, 19\n",
      "epoch 1: -0.24675412476062775, 21\n",
      "epoch 2: 0.10229580849409103, 86\n",
      "epoch 3: 0.16082265973091125, 104\n",
      "epoch 4: 0.15727682411670685, 103\n",
      "epoch 5: 0.1562829613685608, 99\n",
      "epoch 6: 0.15708263218402863, 97\n",
      "epoch 7: 0.15902778506278992, 95\n",
      "epoch 8: 0.16202381253242493, 95\n",
      "epoch 9: 0.17332126200199127, 94\n"
     ]
    }
   ],
   "source": [
    "n_epochs = 100000\n",
    "\n",
    "model = AuctionNet(n_players, n_items)\n",
    "optimizer = Adam(model.parameters(), lr=1e-3)\n",
    "loss_func = AucLoss()\n",
    "\n",
    "\n",
    "for e in range(n_epochs):\n",
    "    loss = 0\n",
    "    for i, t in enumerate(all_tensors):\n",
    "        optimizer.zero_grad()\n",
    "        h = model(t)\n",
    "        h = h.reshape(-1)\n",
    "        t = h - all_other_results[i]\n",
    "        loss += loss_func(t, all_results[i])\n",
    "        if i % 500 == 0 and i != 0:\n",
    "            loss.backward()\n",
    "            optimizer.step()\n",
    "            loss = 0\n",
    "    \n",
    "    budget_violation = 0\n",
    "    reduction = 0\n",
    "    for i, t in enumerate(test_tensors):\n",
    "        res = model(t)\n",
    "        vgc = test_h_vcg[i].clone().detach()\n",
    "        res = res.reshape(-1)\n",
    "\n",
    "        res -= test_other_results[i]\n",
    "        vgc -= test_other_results[i]\n",
    "        res = torch.sum(res)\n",
    "        vgc = torch.sum(vgc)\n",
    "\n",
    "        if res < 0:\n",
    "            budget_violation += 1\n",
    "\n",
    "        reduction += 1 - res/vgc\n",
    "    print(f'epoch {e}: {reduction/len(test_tensors)}, {budget_violation}')\n",
    "    "
   ]
  },
  {
   "cell_type": "code",
   "execution_count": null,
   "id": "434e9d0b-bc89-41b3-9cd3-981bb5905347",
   "metadata": {},
   "outputs": [],
   "source": []
  }
 ],
 "metadata": {
  "kernelspec": {
   "display_name": "Python 3 (ipykernel)",
   "language": "python",
   "name": "python3"
  },
  "language_info": {
   "codemirror_mode": {
    "name": "ipython",
    "version": 3
   },
   "file_extension": ".py",
   "mimetype": "text/x-python",
   "name": "python",
   "nbconvert_exporter": "python",
   "pygments_lexer": "ipython3",
   "version": "3.9.7"
  }
 },
 "nbformat": 4,
 "nbformat_minor": 5
}
